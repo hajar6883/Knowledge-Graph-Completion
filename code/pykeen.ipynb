{
 "cells": [
  {
   "cell_type": "code",
   "execution_count": 4,
   "metadata": {
    "colab": {
     "base_uri": "https://localhost:8080/"
    },
    "executionInfo": {
     "elapsed": 14643,
     "status": "ok",
     "timestamp": 1719076762244,
     "user": {
      "displayName": "Hajar Lamtaai",
      "userId": "02388168871005100853"
     },
     "user_tz": -120
    },
    "id": "qGlPOZojcCDH",
    "outputId": "fb8c60a6-8b3b-487e-cbde-c41334524354"
   },
   "outputs": [],
   "source": [
    "import torch\n",
    "from pykeen.datasets import get_dataset\n",
    "from pykeen.pipeline import pipeline\n",
    "from pykeen.triples import TriplesFactory\n",
    "import pandas as pd\n",
    "from sklearn.model_selection import train_test_split\n",
    "from pykeen import predict\n",
    "from pykeen.models import MuRE\n",
    "import os\n",
    "from datetime import datetime\n",
    "import matplotlib.pyplot as plt\n",
    "import tqdm\n",
    "import json\n",
    "import torch.optim as optim\n"
   ]
  },
  {
   "cell_type": "markdown",
   "metadata": {},
   "source": [
    "#python pytorch python 3.8.19"
   ]
  },
  {
   "cell_type": "code",
   "execution_count": 2,
   "metadata": {},
   "outputs": [
    {
     "data": {
      "text/plain": [
       "'2.3.1+cu118'"
      ]
     },
     "execution_count": 2,
     "metadata": {},
     "output_type": "execute_result"
    }
   ],
   "source": [
    "torch.__version__"
   ]
  },
  {
   "cell_type": "code",
   "execution_count": 29,
   "metadata": {},
   "outputs": [],
   "source": [
    "file_path = '/home/zhang/hajarlamtaai/KGC/data/data_musee/raw_hrt.tsv'"
   ]
  },
  {
   "cell_type": "code",
   "execution_count": 30,
   "metadata": {
    "executionInfo": {
     "elapsed": 2156,
     "status": "ok",
     "timestamp": 1719076764398,
     "user": {
      "displayName": "Hajar Lamtaai",
      "userId": "02388168871005100853"
     },
     "user_tz": -120
    },
    "id": "fO8VxRNC8ckh"
   },
   "outputs": [],
   "source": [
    "df = pd.read_csv(file_path, sep='\\t')"
   ]
  },
  {
   "cell_type": "code",
   "execution_count": 31,
   "metadata": {
    "colab": {
     "base_uri": "https://localhost:8080/",
     "height": 201
    },
    "executionInfo": {
     "elapsed": 9,
     "status": "ok",
     "timestamp": 1719076764399,
     "user": {
      "displayName": "Hajar Lamtaai",
      "userId": "02388168871005100853"
     },
     "user_tz": -120
    },
    "id": "ZiC2UlnRLlLD",
    "outputId": "bcf358b1-0a46-4035-aad0-9284ea56c36c"
   },
   "outputs": [
    {
     "data": {
      "text/html": [
       "<div>\n",
       "<style scoped>\n",
       "    .dataframe tbody tr th:only-of-type {\n",
       "        vertical-align: middle;\n",
       "    }\n",
       "\n",
       "    .dataframe tbody tr th {\n",
       "        vertical-align: top;\n",
       "    }\n",
       "\n",
       "    .dataframe thead th {\n",
       "        text-align: right;\n",
       "    }\n",
       "</style>\n",
       "<table border=\"1\" class=\"dataframe\">\n",
       "  <thead>\n",
       "    <tr style=\"text-align: right;\">\n",
       "      <th></th>\n",
       "      <th>subject</th>\n",
       "      <th>predicate</th>\n",
       "      <th>object</th>\n",
       "    </tr>\n",
       "  </thead>\n",
       "  <tbody>\n",
       "    <tr>\n",
       "      <th>0</th>\n",
       "      <td>http://wikiba.se/ontology#claim</td>\n",
       "      <td>http://www.w3.org/1999/02/22-rdf-syntax-ns#type</td>\n",
       "      <td>http://www.w3.org/2002/07/owl#ObjectProperty</td>\n",
       "    </tr>\n",
       "    <tr>\n",
       "      <th>1</th>\n",
       "      <td>http://www.w3.org/2004/02/skos/core#altLabel</td>\n",
       "      <td>http://www.w3.org/1999/02/22-rdf-syntax-ns#type</td>\n",
       "      <td>http://www.w3.org/2002/07/owl#DatatypeProperty</td>\n",
       "    </tr>\n",
       "    <tr>\n",
       "      <th>2</th>\n",
       "      <td>http://schema.org/about</td>\n",
       "      <td>http://www.w3.org/1999/02/22-rdf-syntax-ns#type</td>\n",
       "      <td>http://www.w3.org/2002/07/owl#ObjectProperty</td>\n",
       "    </tr>\n",
       "    <tr>\n",
       "      <th>3</th>\n",
       "      <td>http://wikiba.se/ontology#Property</td>\n",
       "      <td>http://www.w3.org/1999/02/22-rdf-syntax-ns#type</td>\n",
       "      <td>http://www.w3.org/2002/07/owl#Class</td>\n",
       "    </tr>\n",
       "    <tr>\n",
       "      <th>4</th>\n",
       "      <td>http://wikiba.se/ontology#statementProperty</td>\n",
       "      <td>http://www.w3.org/1999/02/22-rdf-syntax-ns#type</td>\n",
       "      <td>http://www.w3.org/2002/07/owl#ObjectProperty</td>\n",
       "    </tr>\n",
       "  </tbody>\n",
       "</table>\n",
       "</div>"
      ],
      "text/plain": [
       "                                        subject  \\\n",
       "0               http://wikiba.se/ontology#claim   \n",
       "1  http://www.w3.org/2004/02/skos/core#altLabel   \n",
       "2                       http://schema.org/about   \n",
       "3            http://wikiba.se/ontology#Property   \n",
       "4   http://wikiba.se/ontology#statementProperty   \n",
       "\n",
       "                                         predicate  \\\n",
       "0  http://www.w3.org/1999/02/22-rdf-syntax-ns#type   \n",
       "1  http://www.w3.org/1999/02/22-rdf-syntax-ns#type   \n",
       "2  http://www.w3.org/1999/02/22-rdf-syntax-ns#type   \n",
       "3  http://www.w3.org/1999/02/22-rdf-syntax-ns#type   \n",
       "4  http://www.w3.org/1999/02/22-rdf-syntax-ns#type   \n",
       "\n",
       "                                           object  \n",
       "0    http://www.w3.org/2002/07/owl#ObjectProperty  \n",
       "1  http://www.w3.org/2002/07/owl#DatatypeProperty  \n",
       "2    http://www.w3.org/2002/07/owl#ObjectProperty  \n",
       "3             http://www.w3.org/2002/07/owl#Class  \n",
       "4    http://www.w3.org/2002/07/owl#ObjectProperty  "
      ]
     },
     "execution_count": 31,
     "metadata": {},
     "output_type": "execute_result"
    }
   ],
   "source": [
    "df.head()"
   ]
  },
  {
   "cell_type": "code",
   "execution_count": 32,
   "metadata": {},
   "outputs": [],
   "source": [
    "def transductive_split(df, train_size=0.8, val_size=0.1, test_size=0.1, random_state=42):\n",
    "    assert train_size + val_size + test_size == 1.0\n",
    "\n",
    "    df = df.sample(frac=1, random_state=random_state).reset_index(drop=True)\n",
    "    \n",
    "    train_count = int(len(df) * train_size)\n",
    "    val_count = int(len(df) * val_size)\n",
    "    \n",
    "    train_entities = set()\n",
    "    train_relations = set()\n",
    "    \n",
    "    train_df = df.head(train_count)\n",
    "    train_entities.update(train_df['subject'])\n",
    "    train_entities.update(train_df['object'])\n",
    "    train_relations.update(train_df['predicate'])\n",
    "    \n",
    "    remaining_df = df.iloc[train_count:]\n",
    "    filtered_remaining_df = remaining_df[\n",
    "        remaining_df['subject'].isin(train_entities) &\n",
    "        remaining_df['object'].isin(train_entities) &\n",
    "        remaining_df['predicate'].isin(train_relations)\n",
    "    ]\n",
    "    \n",
    "    # Splitting the filtered remaining data\n",
    "    val_df, test_df = train_test_split(\n",
    "        filtered_remaining_df, \n",
    "        test_size=(test_size / (val_size + test_size)), \n",
    "        random_state=random_state\n",
    "    )\n",
    "    \n",
    "    return train_df, val_df, test_df"
   ]
  },
  {
   "cell_type": "code",
   "execution_count": 33,
   "metadata": {
    "executionInfo": {
     "elapsed": 374,
     "status": "ok",
     "timestamp": 1719076764769,
     "user": {
      "displayName": "Hajar Lamtaai",
      "userId": "02388168871005100853"
     },
     "user_tz": -120
    },
    "id": "M_UF7PfjqOPK"
   },
   "outputs": [],
   "source": [
    "# # train_df, temp_df = train_test_split(df, test_size=0.2, random_state=42)\n",
    "# # val_df, test_df = train_test_split(temp_df, test_size=0.5, random_state=42)\n",
    "\n",
    "# train_df, val_df, test_df= transductive_split(df)"
   ]
  },
  {
   "cell_type": "code",
   "execution_count": 34,
   "metadata": {
    "executionInfo": {
     "elapsed": 6147,
     "status": "ok",
     "timestamp": 1719076770914,
     "user": {
      "displayName": "Hajar Lamtaai",
      "userId": "02388168871005100853"
     },
     "user_tz": -120
    },
    "id": "AHbhRrgjsWXU"
   },
   "outputs": [],
   "source": [
    "# train_file_path = 'pykeen_data/train.tsv'\n",
    "# val_file_path = 'pykeen_data/val.tsv'\n",
    "# test_file_path = 'pykeen_data/test.tsv'\n",
    "\n",
    "# train_df.to_csv(train_file_path, sep='\\t', index=False, header=False)\n",
    "# val_df.to_csv(val_file_path, sep='\\t', index=False, header=False)\n",
    "# test_df.to_csv(test_file_path, sep='\\t', index=False, header=False)"
   ]
  },
  {
   "cell_type": "code",
   "execution_count": 35,
   "metadata": {
    "executionInfo": {
     "elapsed": 6,
     "status": "ok",
     "timestamp": 1719076770915,
     "user": {
      "displayName": "Hajar Lamtaai",
      "userId": "02388168871005100853"
     },
     "user_tz": -120
    },
    "id": "nj8Omb4jp25i"
   },
   "outputs": [],
   "source": [
    "\n",
    "MY_TRAIN_PATH ='pykeen_data/train.tsv'\n",
    "MY_VAL_PATH ='pykeen_data/val.tsv'\n",
    "MY_TEST_PATH = 'pykeen_data/test.tsv'\n"
   ]
  },
  {
   "cell_type": "code",
   "execution_count": 36,
   "metadata": {
    "executionInfo": {
     "elapsed": 5,
     "status": "ok",
     "timestamp": 1719076770915,
     "user": {
      "displayName": "Hajar Lamtaai",
      "userId": "02388168871005100853"
     },
     "user_tz": -120
    },
    "id": "wDF8y03jtAQn"
   },
   "outputs": [],
   "source": [
    "# triples_factory = TriplesFactory.from_path(file_path)\n",
    "# training, testing, validation = triples_factory.split(\n",
    "#     ratios=[.95, 0.025, .025],\n",
    "#     method='coverage'\n",
    "# )\n"
   ]
  },
  {
   "cell_type": "code",
   "execution_count": 37,
   "metadata": {
    "executionInfo": {
     "elapsed": 4,
     "status": "ok",
     "timestamp": 1719076770915,
     "user": {
      "displayName": "Hajar Lamtaai",
      "userId": "02388168871005100853"
     },
     "user_tz": -120
    },
    "id": "pllFBR5H3TPg"
   },
   "outputs": [],
   "source": [
    "# print(f\"Training set size: {training.num_triples}\")\n",
    "# print(f\"Testing set size: {testing.num_triples}\")\n",
    "# print(f\"Validation set size: {validation.num_triples}\")\n"
   ]
  },
  {
   "cell_type": "code",
   "execution_count": 38,
   "metadata": {
    "executionInfo": {
     "elapsed": 4,
     "status": "ok",
     "timestamp": 1719076770915,
     "user": {
      "displayName": "Hajar Lamtaai",
      "userId": "02388168871005100853"
     },
     "user_tz": -120
    },
    "id": "ylM5cR-eH1xs"
   },
   "outputs": [],
   "source": [
    "# base_save_path = '/content/drive/My Drive/doctests/'\n",
    "# model_directories = os.listdir(base_save_path)\n",
    "# print(\"Available models:\", model_directories)\n",
    "\n",
    "# # for loading\n",
    "\n",
    "# model_directory = '_'\n",
    "# load_path = os.path.join(base_save_path, model_directory)\n",
    "# result = pipeline_result.load_from_directory(load_path)"
   ]
  },
  {
   "cell_type": "code",
   "execution_count": 39,
   "metadata": {},
   "outputs": [
    {
     "name": "stdout",
     "output_type": "stream",
     "text": [
      "Using device: cuda\n"
     ]
    }
   ],
   "source": [
    "device = torch.device('cuda' if torch.cuda.is_available() else 'cpu')\n",
    "print(f\"Using device: {device}\")"
   ]
  },
  {
   "cell_type": "code",
   "execution_count": 72,
   "metadata": {
    "executionInfo": {
     "elapsed": 2,
     "status": "ok",
     "timestamp": 1719076771235,
     "user": {
      "displayName": "Hajar Lamtaai",
      "userId": "02388168871005100853"
     },
     "user_tz": -120
    },
    "id": "7r8sRNtAr7y_"
   },
   "outputs": [],
   "source": [
    "MODEL_NAME= \"TransE\"\n",
    "loss_fct = 'pairwisehinge'\n",
    "\n"
   ]
  },
  {
   "cell_type": "markdown",
   "metadata": {
    "id": "KWk2PUXnWgmx"
   },
   "source": [
    "Loss fcts : ['Mean Square Error Loss', 'Mean Squared Error Loss', 'Negative Log Likelihood Loss', 'Negative Sampling Self-Adversarial Loss', 'Pairwise Hinge Loss', 'Self-Adversarial Negative Sampling Loss', 'adversarialbcewithlogits', 'bceaftersigmoid', 'bcewithlogits', 'crossentropy', 'doublemargin', 'focal', 'infonce', 'marginranking', 'meansquarederror', 'meansquareerror', 'mse', 'negativeloglikelihood', 'negativesamplingselfadversarial', 'nssa', 'pairwisehinge', 'pairwiselogistic', 'pointwisehinge', 'selfadversarialnegativesampling', 'softmarginranking', 'softplus', 'softpointwisehinge']"
   ]
  },
  {
   "cell_type": "code",
   "execution_count": 74,
   "metadata": {},
   "outputs": [],
   "source": [
    "checkpoint_path = 'doctests/checkpoint_dir/my_checkpoint.pt'\n",
    "if os.path.exists(checkpoint_path):\n",
    "    os.remove(checkpoint_path)"
   ]
  },
  {
   "cell_type": "code",
   "execution_count": 78,
   "metadata": {
    "executionInfo": {
     "elapsed": 7,
     "status": "aborted",
     "timestamp": 1719076781013,
     "user": {
      "displayName": "Hajar Lamtaai",
      "userId": "02388168871005100853"
     },
     "user_tz": -120
    },
    "id": "eB5O-uGwF6P7"
   },
   "outputs": [
    {
     "name": "stderr",
     "output_type": "stream",
     "text": [
      "INFO:pykeen.pipeline.api:=> no training loop checkpoint file found at 'doctests/checkpoint_dir/my_checkpoint.pt'. Creating a new file.\n",
      "INFO:pykeen.pipeline.api:Using device: cuda\n",
      "INFO:pykeen.training.training_loop:=> no checkpoint found at 'doctests/checkpoint_dir/my_checkpoint.pt'. Creating a new file.\n",
      "Training epochs on cuda:0:  56%|█████▌    | 56/100 [05:04<03:55,  5.35s/epoch, loss=0.0606, prev_loss=0.0606]INFO:pykeen.training.training_loop:=> Saved checkpoint after having finished epoch 57.\n",
      "Training epochs on cuda:0:  99%|█████████▉| 99/100 [08:55<00:05,  5.36s/epoch, loss=0.0558, prev_loss=0.0564]INFO:pykeen.training.training_loop:=> Saved checkpoint after having finished epoch 100.\n",
      "Training epochs on cuda:0: 100%|██████████| 100/100 [08:55<00:00,  5.35s/epoch, loss=0.0558, prev_loss=0.0564]\n",
      "Evaluating on cuda:0: 100%|██████████| 35.0k/35.0k [00:16<00:00, 2.07ktriple/s]\n",
      "INFO:pykeen.evaluation.evaluator:Evaluation took 17.96s seconds\n"
     ]
    }
   ],
   "source": [
    "result = pipeline(\n",
    "    training=MY_TRAIN_PATH,\n",
    "    validation=MY_VAL_PATH,\n",
    "    testing=MY_TEST_PATH,\n",
    "\n",
    "    # dataset_kwargs={'create_inverse_triples': True},\n",
    "    model=MODEL_NAME, \n",
    "    # training_loop='sLCWA',  \n",
    "    training_kwargs=dict(\n",
    "        num_epochs=100, \n",
    "        use_tqdm_batch=True, \n",
    "        checkpoint_name='my_checkpoint.pt',\n",
    "        checkpoint_directory='doctests/checkpoint_dir',\n",
    "        checkpoint_frequency=5, \n",
    "    ),\n",
    "    optimizer_kwargs=dict(\n",
    "        lr=0.0001,\n",
    "        weight_decay=1e-3     \n",
    "    ),\n",
    "    loss=loss_fct,\n",
    "    # stopper='early',  \n",
    "    # stopper_kwargs=dict(\n",
    "    #     patience=10,  \n",
    "    #     relative_delta=0.001,  \n",
    "    # ),\n",
    "    evaluator_kwargs=dict(\n",
    "        filtered=True,  \n",
    "    ),\n",
    "    random_seed=42,\n",
    "    device = device\n",
    "   \n",
    ")\n"
   ]
  },
  {
   "cell_type": "code",
   "execution_count": 79,
   "metadata": {
    "executionInfo": {
     "elapsed": 7,
     "status": "aborted",
     "timestamp": 1719076781012,
     "user": {
      "displayName": "Hajar Lamtaai",
      "userId": "02388168871005100853"
     },
     "user_tz": -120
    },
    "id": "wbtYbiJHXPHO"
   },
   "outputs": [
    {
     "data": {
      "text/plain": [
       "<function matplotlib.pyplot.show(close=None, block=None)>"
      ]
     },
     "execution_count": 79,
     "metadata": {},
     "output_type": "execute_result"
    },
    {
     "data": {
      "image/png": "[encoded data removed]",
      "text/plain": [
       "<Figure size 640x480 with 1 Axes>"
      ]
     },
     "metadata": {},
     "output_type": "display_data"
    }
   ],
   "source": [
    "result.plot_losses()\n",
    "plt.show"
   ]
  },
  {
   "cell_type": "code",
   "execution_count": 80,
   "metadata": {
    "executionInfo": {
     "elapsed": 6,
     "status": "aborted",
     "timestamp": 1719076781012,
     "user": {
      "displayName": "Hajar Lamtaai",
      "userId": "02388168871005100853"
     },
     "user_tz": -120
    },
    "id": "-3JOfS7mAHCx"
   },
   "outputs": [
    {
     "name": "stdout",
     "output_type": "stream",
     "text": [
      "['z_inverse_harmonic_mean_rank' 'z_arithmetic_mean_rank'\n",
      " 'adjusted_arithmetic_mean_rank_index' 'count' 'standard_deviation'\n",
      " 'median_rank' 'harmonic_mean_rank' 'inverse_harmonic_mean_rank'\n",
      " 'adjusted_arithmetic_mean_rank' 'median_absolute_deviation'\n",
      " 'z_geometric_mean_rank' 'inverse_geometric_mean_rank'\n",
      " 'inverse_arithmetic_mean_rank' 'adjusted_inverse_harmonic_mean_rank'\n",
      " 'adjusted_geometric_mean_rank_index' 'variance' 'inverse_median_rank'\n",
      " 'geometric_mean_rank' 'arithmetic_mean_rank' 'hits_at_1' 'hits_at_3'\n",
      " 'hits_at_5' 'hits_at_10' 'z_hits_at_k' 'adjusted_hits_at_k']\n"
     ]
    }
   ],
   "source": [
    "metrics_table = result.metric_results.to_df()\n",
    "print(metrics_table['Metric'].unique())"
   ]
  },
  {
   "cell_type": "code",
   "execution_count": 81,
   "metadata": {
    "executionInfo": {
     "elapsed": 7,
     "status": "aborted",
     "timestamp": 1719076781013,
     "user": {
      "displayName": "Hajar Lamtaai",
      "userId": "02388168871005100853"
     },
     "user_tz": -120
    },
    "id": "74-cjLhcFGu2"
   },
   "outputs": [],
   "source": [
    "realistic_metrics = metrics_table[metrics_table['Rank_type'] == 'optimistic']\n",
    "key_metrics = realistic_metrics[\n",
    "    realistic_metrics['Metric'].isin([\n",
    "        'arithmetic_mean_rank', 'inverse_arithmetic_mean_rank', 'hits_at_1', 'hits_at_3', 'hits_at_10'\n",
    "    ])\n",
    "]"
   ]
  },
  {
   "cell_type": "code",
   "execution_count": 82,
   "metadata": {
    "executionInfo": {
     "elapsed": 7,
     "status": "aborted",
     "timestamp": 1719076781013,
     "user": {
      "displayName": "Hajar Lamtaai",
      "userId": "02388168871005100853"
     },
     "user_tz": -120
    },
    "id": "q9h8VzuHGlnE"
   },
   "outputs": [
    {
     "data": {
      "text/html": [
       "<div>\n",
       "<style scoped>\n",
       "    .dataframe tbody tr th:only-of-type {\n",
       "        vertical-align: middle;\n",
       "    }\n",
       "\n",
       "    .dataframe tbody tr th {\n",
       "        vertical-align: top;\n",
       "    }\n",
       "\n",
       "    .dataframe thead th {\n",
       "        text-align: right;\n",
       "    }\n",
       "</style>\n",
       "<table border=\"1\" class=\"dataframe\">\n",
       "  <thead>\n",
       "    <tr style=\"text-align: right;\">\n",
       "      <th></th>\n",
       "      <th>Side</th>\n",
       "      <th>Rank_type</th>\n",
       "      <th>Metric</th>\n",
       "      <th>Value</th>\n",
       "    </tr>\n",
       "  </thead>\n",
       "  <tbody>\n",
       "    <tr>\n",
       "      <th>108</th>\n",
       "      <td>head</td>\n",
       "      <td>optimistic</td>\n",
       "      <td>inverse_arithmetic_mean_rank</td>\n",
       "      <td>0.000106</td>\n",
       "    </tr>\n",
       "    <tr>\n",
       "      <th>109</th>\n",
       "      <td>tail</td>\n",
       "      <td>optimistic</td>\n",
       "      <td>inverse_arithmetic_mean_rank</td>\n",
       "      <td>0.000266</td>\n",
       "    </tr>\n",
       "    <tr>\n",
       "      <th>110</th>\n",
       "      <td>both</td>\n",
       "      <td>optimistic</td>\n",
       "      <td>inverse_arithmetic_mean_rank</td>\n",
       "      <td>0.000151</td>\n",
       "    </tr>\n",
       "    <tr>\n",
       "      <th>162</th>\n",
       "      <td>head</td>\n",
       "      <td>optimistic</td>\n",
       "      <td>arithmetic_mean_rank</td>\n",
       "      <td>9457.514705</td>\n",
       "    </tr>\n",
       "    <tr>\n",
       "      <th>163</th>\n",
       "      <td>tail</td>\n",
       "      <td>optimistic</td>\n",
       "      <td>arithmetic_mean_rank</td>\n",
       "      <td>3766.331407</td>\n",
       "    </tr>\n",
       "    <tr>\n",
       "      <th>164</th>\n",
       "      <td>both</td>\n",
       "      <td>optimistic</td>\n",
       "      <td>arithmetic_mean_rank</td>\n",
       "      <td>6611.923056</td>\n",
       "    </tr>\n",
       "    <tr>\n",
       "      <th>171</th>\n",
       "      <td>head</td>\n",
       "      <td>optimistic</td>\n",
       "      <td>hits_at_1</td>\n",
       "      <td>0.026034</td>\n",
       "    </tr>\n",
       "    <tr>\n",
       "      <th>172</th>\n",
       "      <td>tail</td>\n",
       "      <td>optimistic</td>\n",
       "      <td>hits_at_1</td>\n",
       "      <td>0.176232</td>\n",
       "    </tr>\n",
       "    <tr>\n",
       "      <th>173</th>\n",
       "      <td>both</td>\n",
       "      <td>optimistic</td>\n",
       "      <td>hits_at_1</td>\n",
       "      <td>0.101133</td>\n",
       "    </tr>\n",
       "    <tr>\n",
       "      <th>180</th>\n",
       "      <td>head</td>\n",
       "      <td>optimistic</td>\n",
       "      <td>hits_at_3</td>\n",
       "      <td>0.033701</td>\n",
       "    </tr>\n",
       "    <tr>\n",
       "      <th>181</th>\n",
       "      <td>tail</td>\n",
       "      <td>optimistic</td>\n",
       "      <td>hits_at_3</td>\n",
       "      <td>0.274361</td>\n",
       "    </tr>\n",
       "    <tr>\n",
       "      <th>182</th>\n",
       "      <td>both</td>\n",
       "      <td>optimistic</td>\n",
       "      <td>hits_at_3</td>\n",
       "      <td>0.154031</td>\n",
       "    </tr>\n",
       "    <tr>\n",
       "      <th>198</th>\n",
       "      <td>head</td>\n",
       "      <td>optimistic</td>\n",
       "      <td>hits_at_10</td>\n",
       "      <td>0.048979</td>\n",
       "    </tr>\n",
       "    <tr>\n",
       "      <th>199</th>\n",
       "      <td>tail</td>\n",
       "      <td>optimistic</td>\n",
       "      <td>hits_at_10</td>\n",
       "      <td>0.378126</td>\n",
       "    </tr>\n",
       "    <tr>\n",
       "      <th>200</th>\n",
       "      <td>both</td>\n",
       "      <td>optimistic</td>\n",
       "      <td>hits_at_10</td>\n",
       "      <td>0.213552</td>\n",
       "    </tr>\n",
       "  </tbody>\n",
       "</table>\n",
       "</div>"
      ],
      "text/plain": [
       "     Side   Rank_type                        Metric        Value\n",
       "108  head  optimistic  inverse_arithmetic_mean_rank     0.000106\n",
       "109  tail  optimistic  inverse_arithmetic_mean_rank     0.000266\n",
       "110  both  optimistic  inverse_arithmetic_mean_rank     0.000151\n",
       "162  head  optimistic          arithmetic_mean_rank  9457.514705\n",
       "163  tail  optimistic          arithmetic_mean_rank  3766.331407\n",
       "164  both  optimistic          arithmetic_mean_rank  6611.923056\n",
       "171  head  optimistic                     hits_at_1     0.026034\n",
       "172  tail  optimistic                     hits_at_1     0.176232\n",
       "173  both  optimistic                     hits_at_1     0.101133\n",
       "180  head  optimistic                     hits_at_3     0.033701\n",
       "181  tail  optimistic                     hits_at_3     0.274361\n",
       "182  both  optimistic                     hits_at_3     0.154031\n",
       "198  head  optimistic                    hits_at_10     0.048979\n",
       "199  tail  optimistic                    hits_at_10     0.378126\n",
       "200  both  optimistic                    hits_at_10     0.213552"
      ]
     },
     "execution_count": 82,
     "metadata": {},
     "output_type": "execute_result"
    }
   ],
   "source": [
    "key_metrics"
   ]
  },
  {
   "cell_type": "code",
   "execution_count": 83,
   "metadata": {},
   "outputs": [],
   "source": [
    "def save_model_results(df, model_name, filename='./pykeen_results/models_metrics'):\n",
    "    results_dict = df.to_dict(orient='records')\n",
    "    if os.path.exists(filename):\n",
    "        with open(filename, 'r') as f:\n",
    "            existing_data = json.load(f)\n",
    "    else:\n",
    "        existing_data = {}\n",
    "    \n",
    "    existing_data[model_name] = results_dict\n",
    "    with open(filename, 'w') as f:\n",
    "        json.dump(existing_data, f, indent=4)"
   ]
  },
  {
   "cell_type": "code",
   "execution_count": 84,
   "metadata": {},
   "outputs": [],
   "source": [
    "# save_model_results(key_metrics, MODEL_NAME)"
   ]
  },
  {
   "cell_type": "code",
   "execution_count": 85,
   "metadata": {
    "executionInfo": {
     "elapsed": 7,
     "status": "aborted",
     "timestamp": 1719076781013,
     "user": {
      "displayName": "Hajar Lamtaai",
      "userId": "02388168871005100853"
     },
     "user_tz": -120
    },
    "id": "RAZYCnsfIH3m"
   },
   "outputs": [],
   "source": [
    "#target prediction example:\n",
    "from pykeen.predict import predict_target\n",
    "head_uri = \"http://www.wikidata.org/entity/Q118142339\"\n",
    "relation_uri = \"http://www.wikidata.org/prop/direct/P31\"\n",
    "\n",
    "\n",
    "pred = predict_target(\n",
    "    model=result.model,\n",
    "    head=head_uri,\n",
    "    relation=relation_uri,\n",
    "    triples_factory=result.training,\n",
    ")\n"
   ]
  },
  {
   "cell_type": "code",
   "execution_count": 86,
   "metadata": {
    "executionInfo": {
     "elapsed": 6,
     "status": "aborted",
     "timestamp": 1719076781013,
     "user": {
      "displayName": "Hajar Lamtaai",
      "userId": "02388168871005100853"
     },
     "user_tz": -120
    },
    "id": "UKOsGOY4aC1o"
   },
   "outputs": [
    {
     "data": {
      "text/html": [
       "<div>\n",
       "<style scoped>\n",
       "    .dataframe tbody tr th:only-of-type {\n",
       "        vertical-align: middle;\n",
       "    }\n",
       "\n",
       "    .dataframe tbody tr th {\n",
       "        vertical-align: top;\n",
       "    }\n",
       "\n",
       "    .dataframe thead th {\n",
       "        text-align: right;\n",
       "    }\n",
       "</style>\n",
       "<table border=\"1\" class=\"dataframe\">\n",
       "  <thead>\n",
       "    <tr style=\"text-align: right;\">\n",
       "      <th></th>\n",
       "      <th>tail_id</th>\n",
       "      <th>score</th>\n",
       "      <th>tail_label</th>\n",
       "    </tr>\n",
       "  </thead>\n",
       "  <tbody>\n",
       "    <tr>\n",
       "      <th>118021</th>\n",
       "      <td>118021</td>\n",
       "      <td>-6.541101</td>\n",
       "      <td>http://www.wikidata.org/entity/Q179700</td>\n",
       "    </tr>\n",
       "    <tr>\n",
       "      <th>129815</th>\n",
       "      <td>129815</td>\n",
       "      <td>-7.125266</td>\n",
       "      <td>http://www.wikidata.org/entity/Q3305213</td>\n",
       "    </tr>\n",
       "    <tr>\n",
       "      <th>138965</th>\n",
       "      <td>138965</td>\n",
       "      <td>-7.305830</td>\n",
       "      <td>http://www.wikidata.org/entity/Q93184</td>\n",
       "    </tr>\n",
       "    <tr>\n",
       "      <th>137216</th>\n",
       "      <td>137216</td>\n",
       "      <td>-7.652369</td>\n",
       "      <td>http://www.wikidata.org/entity/Q860861</td>\n",
       "    </tr>\n",
       "    <tr>\n",
       "      <th>111148</th>\n",
       "      <td>111148</td>\n",
       "      <td>-7.790608</td>\n",
       "      <td>http://www.wikidata.org/entity/Q11060274</td>\n",
       "    </tr>\n",
       "  </tbody>\n",
       "</table>\n",
       "</div>"
      ],
      "text/plain": [
       "        tail_id     score                                tail_label\n",
       "118021   118021 -6.541101    http://www.wikidata.org/entity/Q179700\n",
       "129815   129815 -7.125266   http://www.wikidata.org/entity/Q3305213\n",
       "138965   138965 -7.305830     http://www.wikidata.org/entity/Q93184\n",
       "137216   137216 -7.652369    http://www.wikidata.org/entity/Q860861\n",
       "111148   111148 -7.790608  http://www.wikidata.org/entity/Q11060274"
      ]
     },
     "execution_count": 86,
     "metadata": {},
     "output_type": "execute_result"
    }
   ],
   "source": [
    "# pred_filtered = pred.filter_triples(dataset.training)\n",
    "# pred_annotated = pred_filtered.add_membership_columns(validation=dataset.validation, testing=dataset.testing)\n",
    "tails = pred.df\n",
    "tails.head()\n",
    "# http://www.wikidata.org/entity/Q182791"
   ]
  },
  {
   "cell_type": "code",
   "execution_count": 87,
   "metadata": {},
   "outputs": [],
   "source": [
    "\n",
    "\n",
    "# torch.save(result.model.state_dict(), f'./pykeen_results/{MODEL_NAME}.pth')"
   ]
  }
 ],
 "metadata": {
  "accelerator": "GPU",
  "colab": {
   "gpuType": "T4",
   "name": "",
   "version": ""
  },
  "kernelspec": {
   "display_name": "Python (PyTorch)",
   "language": "python",
   "name": "pytorchenv"
  },
  "language_info": {
   "codemirror_mode": {
    "name": "ipython",
    "version": 3
   },
   "file_extension": ".py",
   "mimetype": "text/x-python",
   "name": "python",
   "nbconvert_exporter": "python",
   "pygments_lexer": "ipython3",
   "version": "3.8.19"
  },
  "widgets": {
   "application/vnd.jupyter.widget-state+json": {
    "00ba6ab8c3e647e9a29b00d8b3c6872b": {
     "model_module": "@jupyter-widgets/controls",
     "model_module_version": "1.5.0",
     "model_name": "HTMLModel",
     "state": {
      "_dom_classes": [],
      "_model_module": "@jupyter-widgets/controls",
      "_model_module_version": "1.5.0",
      "_model_name": "HTMLModel",
      "_view_count": null,
      "_view_module": "@jupyter-widgets/controls",
      "_view_module_version": "1.5.0",
      "_view_name": "HTMLView",
      "description": "",
      "description_tooltip": null,
      "layout": "IPY_MODEL_0314d8ec311e4ffc9c9b149c6dee8388",
      "placeholder": "​",
      "style": "IPY_MODEL_44e0332d040942309a10ae41ce7c6bf7",
      "value": "Training batches on cpu:   0%"
     }
    },
    "0314d8ec311e4ffc9c9b149c6dee8388": {
     "model_module": "@jupyter-widgets/base",
     "model_module_version": "1.2.0",
     "model_name": "LayoutModel",
     "state": {
      "_model_module": "@jupyter-widgets/base",
      "_model_module_version": "1.2.0",
      "_model_name": "LayoutModel",
      "_view_count": null,
      "_view_module": "@jupyter-widgets/base",
      "_view_module_version": "1.2.0",
      "_view_name": "LayoutView",
      "align_content": null,
      "align_items": null,
      "align_self": null,
      "border": null,
      "bottom": null,
      "display": null,
      "flex": null,
      "flex_flow": null,
      "grid_area": null,
      "grid_auto_columns": null,
      "grid_auto_flow": null,
      "grid_auto_rows": null,
      "grid_column": null,
      "grid_gap": null,
      "grid_row": null,
      "grid_template_areas": null,
      "grid_template_columns": null,
      "grid_template_rows": null,
      "height": null,
      "justify_content": null,
      "justify_items": null,
      "left": null,
      "margin": null,
      "max_height": null,
      "max_width": null,
      "min_height": null,
      "min_width": null,
      "object_fit": null,
      "object_position": null,
      "order": null,
      "overflow": null,
      "overflow_x": null,
      "overflow_y": null,
      "padding": null,
      "right": null,
      "top": null,
      "visibility": null,
      "width": null
     }
    },
    "1da655f8050248778811a3fbdb1babe8": {
     "model_module": "@jupyter-widgets/base",
     "model_module_version": "1.2.0",
     "model_name": "LayoutModel",
     "state": {
      "_model_module": "@jupyter-widgets/base",
      "_model_module_version": "1.2.0",
      "_model_name": "LayoutModel",
      "_view_count": null,
      "_view_module": "@jupyter-widgets/base",
      "_view_module_version": "1.2.0",
      "_view_name": "LayoutView",
      "align_content": null,
      "align_items": null,
      "align_self": null,
      "border": null,
      "bottom": null,
      "display": null,
      "flex": null,
      "flex_flow": null,
      "grid_area": null,
      "grid_auto_columns": null,
      "grid_auto_flow": null,
      "grid_auto_rows": null,
      "grid_column": null,
      "grid_gap": null,
      "grid_row": null,
      "grid_template_areas": null,
      "grid_template_columns": null,
      "grid_template_rows": null,
      "height": null,
      "justify_content": null,
      "justify_items": null,
      "left": null,
      "margin": null,
      "max_height": null,
      "max_width": null,
      "min_height": null,
      "min_width": null,
      "object_fit": null,
      "object_position": null,
      "order": null,
      "overflow": null,
      "overflow_x": null,
      "overflow_y": null,
      "padding": null,
      "right": null,
      "top": null,
      "visibility": null,
      "width": null
     }
    },
    "2d4ff6f39f6c4fb9971779bcafc40f41": {
     "model_module": "@jupyter-widgets/controls",
     "model_module_version": "1.5.0",
     "model_name": "FloatProgressModel",
     "state": {
      "_dom_classes": [],
      "_model_module": "@jupyter-widgets/controls",
      "_model_module_version": "1.5.0",
      "_model_name": "FloatProgressModel",
      "_view_count": null,
      "_view_module": "@jupyter-widgets/controls",
      "_view_module_version": "1.5.0",
      "_view_name": "ProgressView",
      "bar_style": "",
      "description": "",
      "description_tooltip": null,
      "layout": "IPY_MODEL_48d72fc3c8834a5685d8881a9768fb40",
      "max": 3024,
      "min": 0,
      "orientation": "horizontal",
      "style": "IPY_MODEL_477ed70a1e7f492182dd9c29a118e968",
      "value": 12
     }
    },
    "3a98ccc8d8ce4d6fb538325fb4c43003": {
     "model_module": "@jupyter-widgets/controls",
     "model_module_version": "1.5.0",
     "model_name": "FloatProgressModel",
     "state": {
      "_dom_classes": [],
      "_model_module": "@jupyter-widgets/controls",
      "_model_module_version": "1.5.0",
      "_model_name": "FloatProgressModel",
      "_view_count": null,
      "_view_module": "@jupyter-widgets/controls",
      "_view_module_version": "1.5.0",
      "_view_name": "ProgressView",
      "bar_style": "",
      "description": "",
      "description_tooltip": null,
      "layout": "IPY_MODEL_1da655f8050248778811a3fbdb1babe8",
      "max": 20,
      "min": 0,
      "orientation": "horizontal",
      "style": "IPY_MODEL_723717946df44430ab5d89e15878c86e",
      "value": 0
     }
    },
    "44e0332d040942309a10ae41ce7c6bf7": {
     "model_module": "@jupyter-widgets/controls",
     "model_module_version": "1.5.0",
     "model_name": "DescriptionStyleModel",
     "state": {
      "_model_module": "@jupyter-widgets/controls",
      "_model_module_version": "1.5.0",
      "_model_name": "DescriptionStyleModel",
      "_view_count": null,
      "_view_module": "@jupyter-widgets/base",
      "_view_module_version": "1.2.0",
      "_view_name": "StyleView",
      "description_width": ""
     }
    },
    "477ed70a1e7f492182dd9c29a118e968": {
     "model_module": "@jupyter-widgets/controls",
     "model_module_version": "1.5.0",
     "model_name": "ProgressStyleModel",
     "state": {
      "_model_module": "@jupyter-widgets/controls",
      "_model_module_version": "1.5.0",
      "_model_name": "ProgressStyleModel",
      "_view_count": null,
      "_view_module": "@jupyter-widgets/base",
      "_view_module_version": "1.2.0",
      "_view_name": "StyleView",
      "bar_color": null,
      "description_width": ""
     }
    },
    "48d72fc3c8834a5685d8881a9768fb40": {
     "model_module": "@jupyter-widgets/base",
     "model_module_version": "1.2.0",
     "model_name": "LayoutModel",
     "state": {
      "_model_module": "@jupyter-widgets/base",
      "_model_module_version": "1.2.0",
      "_model_name": "LayoutModel",
      "_view_count": null,
      "_view_module": "@jupyter-widgets/base",
      "_view_module_version": "1.2.0",
      "_view_name": "LayoutView",
      "align_content": null,
      "align_items": null,
      "align_self": null,
      "border": null,
      "bottom": null,
      "display": null,
      "flex": null,
      "flex_flow": null,
      "grid_area": null,
      "grid_auto_columns": null,
      "grid_auto_flow": null,
      "grid_auto_rows": null,
      "grid_column": null,
      "grid_gap": null,
      "grid_row": null,
      "grid_template_areas": null,
      "grid_template_columns": null,
      "grid_template_rows": null,
      "height": null,
      "justify_content": null,
      "justify_items": null,
      "left": null,
      "margin": null,
      "max_height": null,
      "max_width": null,
      "min_height": null,
      "min_width": null,
      "object_fit": null,
      "object_position": null,
      "order": null,
      "overflow": null,
      "overflow_x": null,
      "overflow_y": null,
      "padding": null,
      "right": null,
      "top": null,
      "visibility": null,
      "width": null
     }
    },
    "4d032f103deb423586cd24e9fec6f3b4": {
     "model_module": "@jupyter-widgets/base",
     "model_module_version": "1.2.0",
     "model_name": "LayoutModel",
     "state": {
      "_model_module": "@jupyter-widgets/base",
      "_model_module_version": "1.2.0",
      "_model_name": "LayoutModel",
      "_view_count": null,
      "_view_module": "@jupyter-widgets/base",
      "_view_module_version": "1.2.0",
      "_view_name": "LayoutView",
      "align_content": null,
      "align_items": null,
      "align_self": null,
      "border": null,
      "bottom": null,
      "display": null,
      "flex": null,
      "flex_flow": null,
      "grid_area": null,
      "grid_auto_columns": null,
      "grid_auto_flow": null,
      "grid_auto_rows": null,
      "grid_column": null,
      "grid_gap": null,
      "grid_row": null,
      "grid_template_areas": null,
      "grid_template_columns": null,
      "grid_template_rows": null,
      "height": null,
      "justify_content": null,
      "justify_items": null,
      "left": null,
      "margin": null,
      "max_height": null,
      "max_width": null,
      "min_height": null,
      "min_width": null,
      "object_fit": null,
      "object_position": null,
      "order": null,
      "overflow": null,
      "overflow_x": null,
      "overflow_y": null,
      "padding": null,
      "right": null,
      "top": null,
      "visibility": null,
      "width": null
     }
    },
    "6de1d044a76b4d88993618d55d94c087": {
     "model_module": "@jupyter-widgets/base",
     "model_module_version": "1.2.0",
     "model_name": "LayoutModel",
     "state": {
      "_model_module": "@jupyter-widgets/base",
      "_model_module_version": "1.2.0",
      "_model_name": "LayoutModel",
      "_view_count": null,
      "_view_module": "@jupyter-widgets/base",
      "_view_module_version": "1.2.0",
      "_view_name": "LayoutView",
      "align_content": null,
      "align_items": null,
      "align_self": null,
      "border": null,
      "bottom": null,
      "display": null,
      "flex": null,
      "flex_flow": null,
      "grid_area": null,
      "grid_auto_columns": null,
      "grid_auto_flow": null,
      "grid_auto_rows": null,
      "grid_column": null,
      "grid_gap": null,
      "grid_row": null,
      "grid_template_areas": null,
      "grid_template_columns": null,
      "grid_template_rows": null,
      "height": null,
      "justify_content": null,
      "justify_items": null,
      "left": null,
      "margin": null,
      "max_height": null,
      "max_width": null,
      "min_height": null,
      "min_width": null,
      "object_fit": null,
      "object_position": null,
      "order": null,
      "overflow": null,
      "overflow_x": null,
      "overflow_y": null,
      "padding": null,
      "right": null,
      "top": null,
      "visibility": null,
      "width": null
     }
    },
    "723717946df44430ab5d89e15878c86e": {
     "model_module": "@jupyter-widgets/controls",
     "model_module_version": "1.5.0",
     "model_name": "ProgressStyleModel",
     "state": {
      "_model_module": "@jupyter-widgets/controls",
      "_model_module_version": "1.5.0",
      "_model_name": "ProgressStyleModel",
      "_view_count": null,
      "_view_module": "@jupyter-widgets/base",
      "_view_module_version": "1.2.0",
      "_view_name": "StyleView",
      "bar_color": null,
      "description_width": ""
     }
    },
    "7cdc37a0e1c546c7aa7a930f53ba131c": {
     "model_module": "@jupyter-widgets/base",
     "model_module_version": "1.2.0",
     "model_name": "LayoutModel",
     "state": {
      "_model_module": "@jupyter-widgets/base",
      "_model_module_version": "1.2.0",
      "_model_name": "LayoutModel",
      "_view_count": null,
      "_view_module": "@jupyter-widgets/base",
      "_view_module_version": "1.2.0",
      "_view_name": "LayoutView",
      "align_content": null,
      "align_items": null,
      "align_self": null,
      "border": null,
      "bottom": null,
      "display": null,
      "flex": null,
      "flex_flow": null,
      "grid_area": null,
      "grid_auto_columns": null,
      "grid_auto_flow": null,
      "grid_auto_rows": null,
      "grid_column": null,
      "grid_gap": null,
      "grid_row": null,
      "grid_template_areas": null,
      "grid_template_columns": null,
      "grid_template_rows": null,
      "height": null,
      "justify_content": null,
      "justify_items": null,
      "left": null,
      "margin": null,
      "max_height": null,
      "max_width": null,
      "min_height": null,
      "min_width": null,
      "object_fit": null,
      "object_position": null,
      "order": null,
      "overflow": null,
      "overflow_x": null,
      "overflow_y": null,
      "padding": null,
      "right": null,
      "top": null,
      "visibility": null,
      "width": null
     }
    },
    "7d9b04a7968f402190a339324cbd2f98": {
     "model_module": "@jupyter-widgets/controls",
     "model_module_version": "1.5.0",
     "model_name": "DescriptionStyleModel",
     "state": {
      "_model_module": "@jupyter-widgets/controls",
      "_model_module_version": "1.5.0",
      "_model_name": "DescriptionStyleModel",
      "_view_count": null,
      "_view_module": "@jupyter-widgets/base",
      "_view_module_version": "1.2.0",
      "_view_name": "StyleView",
      "description_width": ""
     }
    },
    "846e846e2c3649a3b37ad92b1c1f9efb": {
     "model_module": "@jupyter-widgets/controls",
     "model_module_version": "1.5.0",
     "model_name": "DescriptionStyleModel",
     "state": {
      "_model_module": "@jupyter-widgets/controls",
      "_model_module_version": "1.5.0",
      "_model_name": "DescriptionStyleModel",
      "_view_count": null,
      "_view_module": "@jupyter-widgets/base",
      "_view_module_version": "1.2.0",
      "_view_name": "StyleView",
      "description_width": ""
     }
    },
    "8705ef97e15e40dbb4a23efe49cea08e": {
     "model_module": "@jupyter-widgets/controls",
     "model_module_version": "1.5.0",
     "model_name": "HBoxModel",
     "state": {
      "_dom_classes": [],
      "_model_module": "@jupyter-widgets/controls",
      "_model_module_version": "1.5.0",
      "_model_name": "HBoxModel",
      "_view_count": null,
      "_view_module": "@jupyter-widgets/controls",
      "_view_module_version": "1.5.0",
      "_view_name": "HBoxView",
      "box_style": "",
      "children": [
       "IPY_MODEL_00ba6ab8c3e647e9a29b00d8b3c6872b",
       "IPY_MODEL_2d4ff6f39f6c4fb9971779bcafc40f41",
       "IPY_MODEL_cbeea39703304005bee58c2f680e368c"
      ],
      "layout": "IPY_MODEL_7cdc37a0e1c546c7aa7a930f53ba131c"
     }
    },
    "8816be7cd0ce47cea7642bf6cf6fa680": {
     "model_module": "@jupyter-widgets/base",
     "model_module_version": "1.2.0",
     "model_name": "LayoutModel",
     "state": {
      "_model_module": "@jupyter-widgets/base",
      "_model_module_version": "1.2.0",
      "_model_name": "LayoutModel",
      "_view_count": null,
      "_view_module": "@jupyter-widgets/base",
      "_view_module_version": "1.2.0",
      "_view_name": "LayoutView",
      "align_content": null,
      "align_items": null,
      "align_self": null,
      "border": null,
      "bottom": null,
      "display": null,
      "flex": null,
      "flex_flow": null,
      "grid_area": null,
      "grid_auto_columns": null,
      "grid_auto_flow": null,
      "grid_auto_rows": null,
      "grid_column": null,
      "grid_gap": null,
      "grid_row": null,
      "grid_template_areas": null,
      "grid_template_columns": null,
      "grid_template_rows": null,
      "height": null,
      "justify_content": null,
      "justify_items": null,
      "left": null,
      "margin": null,
      "max_height": null,
      "max_width": null,
      "min_height": null,
      "min_width": null,
      "object_fit": null,
      "object_position": null,
      "order": null,
      "overflow": null,
      "overflow_x": null,
      "overflow_y": null,
      "padding": null,
      "right": null,
      "top": null,
      "visibility": null,
      "width": null
     }
    },
    "9b7bd58341274d829648ad412345fc9a": {
     "model_module": "@jupyter-widgets/controls",
     "model_module_version": "1.5.0",
     "model_name": "HTMLModel",
     "state": {
      "_dom_classes": [],
      "_model_module": "@jupyter-widgets/controls",
      "_model_module_version": "1.5.0",
      "_model_name": "HTMLModel",
      "_view_count": null,
      "_view_module": "@jupyter-widgets/controls",
      "_view_module_version": "1.5.0",
      "_view_name": "HTMLView",
      "description": "",
      "description_tooltip": null,
      "layout": "IPY_MODEL_4d032f103deb423586cd24e9fec6f3b4",
      "placeholder": "​",
      "style": "IPY_MODEL_7d9b04a7968f402190a339324cbd2f98",
      "value": "Training epochs on cpu:   0%"
     }
    },
    "ab5fc4015e894dc3b3f6d46837be379e": {
     "model_module": "@jupyter-widgets/controls",
     "model_module_version": "1.5.0",
     "model_name": "HTMLModel",
     "state": {
      "_dom_classes": [],
      "_model_module": "@jupyter-widgets/controls",
      "_model_module_version": "1.5.0",
      "_model_name": "HTMLModel",
      "_view_count": null,
      "_view_module": "@jupyter-widgets/controls",
      "_view_module_version": "1.5.0",
      "_view_name": "HTMLView",
      "description": "",
      "description_tooltip": null,
      "layout": "IPY_MODEL_6de1d044a76b4d88993618d55d94c087",
      "placeholder": "​",
      "style": "IPY_MODEL_ac84339432ba48a3818365959b71171e",
      "value": " 0/20 [00:00&lt;?, ?epoch/s]"
     }
    },
    "ac84339432ba48a3818365959b71171e": {
     "model_module": "@jupyter-widgets/controls",
     "model_module_version": "1.5.0",
     "model_name": "DescriptionStyleModel",
     "state": {
      "_model_module": "@jupyter-widgets/controls",
      "_model_module_version": "1.5.0",
      "_model_name": "DescriptionStyleModel",
      "_view_count": null,
      "_view_module": "@jupyter-widgets/base",
      "_view_module_version": "1.2.0",
      "_view_name": "StyleView",
      "description_width": ""
     }
    },
    "cbeea39703304005bee58c2f680e368c": {
     "model_module": "@jupyter-widgets/controls",
     "model_module_version": "1.5.0",
     "model_name": "HTMLModel",
     "state": {
      "_dom_classes": [],
      "_model_module": "@jupyter-widgets/controls",
      "_model_module_version": "1.5.0",
      "_model_name": "HTMLModel",
      "_view_count": null,
      "_view_module": "@jupyter-widgets/controls",
      "_view_module_version": "1.5.0",
      "_view_name": "HTMLView",
      "description": "",
      "description_tooltip": null,
      "layout": "IPY_MODEL_8816be7cd0ce47cea7642bf6cf6fa680",
      "placeholder": "​",
      "style": "IPY_MODEL_846e846e2c3649a3b37ad92b1c1f9efb",
      "value": " 12/3024 [00:22&lt;1:30:45,  1.81s/batch]"
     }
    },
    "d282c2e0184145fd8afa084edaace424": {
     "model_module": "@jupyter-widgets/controls",
     "model_module_version": "1.5.0",
     "model_name": "HBoxModel",
     "state": {
      "_dom_classes": [],
      "_model_module": "@jupyter-widgets/controls",
      "_model_module_version": "1.5.0",
      "_model_name": "HBoxModel",
      "_view_count": null,
      "_view_module": "@jupyter-widgets/controls",
      "_view_module_version": "1.5.0",
      "_view_name": "HBoxView",
      "box_style": "",
      "children": [
       "IPY_MODEL_9b7bd58341274d829648ad412345fc9a",
       "IPY_MODEL_3a98ccc8d8ce4d6fb538325fb4c43003",
       "IPY_MODEL_ab5fc4015e894dc3b3f6d46837be379e"
      ],
      "layout": "IPY_MODEL_d8be996d4db347eabc1b3cd5b0168f27"
     }
    },
    "d8be996d4db347eabc1b3cd5b0168f27": {
     "model_module": "@jupyter-widgets/base",
     "model_module_version": "1.2.0",
     "model_name": "LayoutModel",
     "state": {
      "_model_module": "@jupyter-widgets/base",
      "_model_module_version": "1.2.0",
      "_model_name": "LayoutModel",
      "_view_count": null,
      "_view_module": "@jupyter-widgets/base",
      "_view_module_version": "1.2.0",
      "_view_name": "LayoutView",
      "align_content": null,
      "align_items": null,
      "align_self": null,
      "border": null,
      "bottom": null,
      "display": null,
      "flex": null,
      "flex_flow": null,
      "grid_area": null,
      "grid_auto_columns": null,
      "grid_auto_flow": null,
      "grid_auto_rows": null,
      "grid_column": null,
      "grid_gap": null,
      "grid_row": null,
      "grid_template_areas": null,
      "grid_template_columns": null,
      "grid_template_rows": null,
      "height": null,
      "justify_content": null,
      "justify_items": null,
      "left": null,
      "margin": null,
      "max_height": null,
      "max_width": null,
      "min_height": null,
      "min_width": null,
      "object_fit": null,
      "object_position": null,
      "order": null,
      "overflow": null,
      "overflow_x": null,
      "overflow_y": null,
      "padding": null,
      "right": null,
      "top": null,
      "visibility": null,
      "width": null
     }
    }
   }
  }
 },
 "nbformat": 4,
 "nbformat_minor": 0
}
